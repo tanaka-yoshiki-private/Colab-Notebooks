{
  "nbformat": 4,
  "nbformat_minor": 0,
  "metadata": {
    "colab": {
      "provenance": [],
      "mount_file_id": "1N7IyutJEL1JcoQZmggLAoOFtqDSk7f5V",
      "authorship_tag": "ABX9TyPp5TilmcPuAG6/KI8Gu9ZA",
      "include_colab_link": true
    },
    "kernelspec": {
      "name": "python3",
      "display_name": "Python 3"
    },
    "language_info": {
      "name": "python"
    }
  },
  "cells": [
    {
      "cell_type": "markdown",
      "metadata": {
        "id": "view-in-github",
        "colab_type": "text"
      },
      "source": [
        "<a href=\"https://colab.research.google.com/github/tanaka-yoshiki-private/Colab-Notebooks/blob/main/anomalib.ipynb\" target=\"_parent\"><img src=\"https://colab.research.google.com/assets/colab-badge.svg\" alt=\"Open In Colab\"/></a>"
      ]
    },
    {
      "cell_type": "code",
      "execution_count": null,
      "metadata": {
        "id": "xdEWcclkZtTC",
        "colab": {
          "base_uri": "https://localhost:8080/"
        },
        "outputId": "ffb26ded-7f5a-44d3-f6a7-835ec77485a8"
      },
      "outputs": [
        {
          "output_type": "stream",
          "name": "stdout",
          "text": [
            "\u001b[0m\u001b[01;34mdrive\u001b[0m/  \u001b[01;34msample_data\u001b[0m/\n"
          ]
        }
      ],
      "source": [
        "ls"
      ]
    },
    {
      "cell_type": "code",
      "source": [
        "cd drive/MyDrive/Colab\\ Notebooks/workspaces"
      ],
      "metadata": {
        "colab": {
          "base_uri": "https://localhost:8080/"
        },
        "id": "9eGIOyl6s_n0",
        "outputId": "c5e3afcb-996a-4625-f697-d23e02cf1089"
      },
      "execution_count": null,
      "outputs": [
        {
          "output_type": "stream",
          "name": "stdout",
          "text": [
            "/content/drive/MyDrive/Colab Notebooks/workspaces\n"
          ]
        }
      ]
    },
    {
      "cell_type": "code",
      "source": [
        "ls"
      ],
      "metadata": {
        "id": "zSvFtaCWtHhz"
      },
      "execution_count": null,
      "outputs": []
    },
    {
      "cell_type": "code",
      "source": [
        "!git clone https://github.com/openvinotoolkit/anomalib.git"
      ],
      "metadata": {
        "colab": {
          "base_uri": "https://localhost:8080/"
        },
        "id": "s32UPtDatIjR",
        "outputId": "98aadd02-fb66-4ae6-eb10-6b0a901b5843"
      },
      "execution_count": null,
      "outputs": [
        {
          "output_type": "stream",
          "name": "stdout",
          "text": [
            "Cloning into 'anomalib'...\n",
            "remote: Enumerating objects: 8724, done.\u001b[K\n",
            "remote: Counting objects: 100% (1363/1363), done.\u001b[K\n",
            "remote: Compressing objects: 100% (1048/1048), done.\u001b[K\n",
            "remote: Total 8724 (delta 546), reused 882 (delta 285), pack-reused 7361\u001b[K\n",
            "Receiving objects: 100% (8724/8724), 57.77 MiB | 14.96 MiB/s, done.\n",
            "Resolving deltas: 100% (4882/4882), done.\n",
            "Updating files: 100% (600/600), done.\n"
          ]
        }
      ]
    },
    {
      "cell_type": "code",
      "source": [
        "%cd anomalib"
      ],
      "metadata": {
        "colab": {
          "base_uri": "https://localhost:8080/"
        },
        "id": "2pLkReThtTWe",
        "outputId": "dad32bb3-b0e3-46f3-fdd4-6e1b21a78752"
      },
      "execution_count": null,
      "outputs": [
        {
          "output_type": "stream",
          "name": "stdout",
          "text": [
            "/content/drive/MyDrive/Colab Notebooks/workspaces/anomalib\n"
          ]
        }
      ]
    },
    {
      "cell_type": "code",
      "source": [
        "%pip install."
      ],
      "metadata": {
        "colab": {
          "base_uri": "https://localhost:8080/"
        },
        "id": "HJuowz1wtad1",
        "outputId": "6eaa0546-106b-4c9f-c70c-90db64b0d1c3"
      },
      "execution_count": null,
      "outputs": [
        {
          "output_type": "stream",
          "name": "stdout",
          "text": [
            "ERROR: unknown command \"install.\" - maybe you meant \"install\"\n"
          ]
        }
      ]
    },
    {
      "cell_type": "code",
      "source": [
        "%pip install %anomalib install -v"
      ],
      "metadata": {
        "colab": {
          "base_uri": "https://localhost:8080/"
        },
        "id": "Ogd2dRUdteiI",
        "outputId": "f370389f-e898-46cf-a55e-8e2960a3a3b4"
      },
      "execution_count": null,
      "outputs": [
        {
          "output_type": "stream",
          "name": "stdout",
          "text": [
            "Using pip 23.1.2 from /usr/local/lib/python3.10/dist-packages/pip (python 3.10)\n",
            "\u001b[31mERROR: Invalid requirement: '%anomalib'\u001b[0m\u001b[31m\n",
            "\u001b[0m"
          ]
        }
      ]
    },
    {
      "cell_type": "code",
      "source": [
        "%pip install anomalib install -v"
      ],
      "metadata": {
        "colab": {
          "base_uri": "https://localhost:8080/",
          "height": 1000
        },
        "id": "Wm7XnBLHtkuL",
        "outputId": "fb304a85-2a4c-4e25-8627-32235312a39b"
      },
      "execution_count": null,
      "outputs": [
        {
          "output_type": "stream",
          "name": "stdout",
          "text": [
            "Using pip 23.1.2 from /usr/local/lib/python3.10/dist-packages/pip (python 3.10)\n",
            "Collecting anomalib\n",
            "  Downloading anomalib-1.0.0-py3-none-any.whl (391 kB)\n",
            "\u001b[2K     \u001b[90m━━━━━━━━━━━━━━━━━━━━━━━━━━━━━━━━━━━━━━━━\u001b[0m \u001b[32m391.8/391.8 kB\u001b[0m \u001b[31m2.8 MB/s\u001b[0m eta \u001b[36m0:00:00\u001b[0m\n",
            "\u001b[?25hCollecting install\n",
            "  Downloading install-1.3.5-py3-none-any.whl (3.2 kB)\n",
            "Collecting jsonargparse[signatures]>=4.3 (from anomalib)\n",
            "  Downloading jsonargparse-4.27.5-py3-none-any.whl (191 kB)\n",
            "\u001b[2K     \u001b[90m━━━━━━━━━━━━━━━━━━━━━━━━━━━━━━━━━━━━━━━━\u001b[0m \u001b[32m191.3/191.3 kB\u001b[0m \u001b[31m16.0 MB/s\u001b[0m eta \u001b[36m0:00:00\u001b[0m\n",
            "\u001b[?25hCollecting omegaconf>=2.1.1 (from anomalib)\n",
            "  Downloading omegaconf-2.3.0-py3-none-any.whl (79 kB)\n",
            "\u001b[2K     \u001b[90m━━━━━━━━━━━━━━━━━━━━━━━━━━━━━━━━━━━━━━━━\u001b[0m \u001b[32m79.5/79.5 kB\u001b[0m \u001b[31m7.8 MB/s\u001b[0m eta \u001b[36m0:00:00\u001b[0m\n",
            "\u001b[?25hRequirement already satisfied: rich>=13.5.2 in /usr/local/lib/python3.10/dist-packages (from anomalib) (13.7.1)\n",
            "Requirement already satisfied: setuptools>=41.0.0 in /usr/local/lib/python3.10/dist-packages (from anomalib) (67.7.2)\n",
            "Collecting rich-argparse (from anomalib)\n",
            "  Downloading rich_argparse-1.4.0-py3-none-any.whl (19 kB)\n",
            "Requirement already satisfied: PyYAML>=3.13 in /usr/local/lib/python3.10/dist-packages (from jsonargparse[signatures]>=4.3->anomalib) (6.0.1)\n",
            "Collecting docstring-parser>=0.15 (from jsonargparse[signatures]>=4.3->anomalib)\n",
            "  Downloading docstring_parser-0.15-py3-none-any.whl (36 kB)\n",
            "Collecting typeshed-client>=2.1.0 (from jsonargparse[signatures]>=4.3->anomalib)\n",
            "  Downloading typeshed_client-2.5.1-py3-none-any.whl (606 kB)\n",
            "\u001b[2K     \u001b[90m━━━━━━━━━━━━━━━━━━━━━━━━━━━━━━━━━━━━━━━━\u001b[0m \u001b[32m606.1/606.1 kB\u001b[0m \u001b[31m11.0 MB/s\u001b[0m eta \u001b[36m0:00:00\u001b[0m\n",
            "\u001b[?25hCollecting antlr4-python3-runtime==4.9.* (from omegaconf>=2.1.1->anomalib)\n",
            "  Downloading antlr4-python3-runtime-4.9.3.tar.gz (117 kB)\n",
            "\u001b[2K     \u001b[90m━━━━━━━━━━━━━━━━━━━━━━━━━━━━━━━━━━━━━━━━\u001b[0m \u001b[32m117.0/117.0 kB\u001b[0m \u001b[31m10.7 MB/s\u001b[0m eta \u001b[36m0:00:00\u001b[0m\n",
            "\u001b[?25h  Running command python setup.py egg_info\n",
            "  running egg_info\n",
            "  creating /tmp/pip-pip-egg-info-yqgwvxco/antlr4_python3_runtime.egg-info\n",
            "  writing /tmp/pip-pip-egg-info-yqgwvxco/antlr4_python3_runtime.egg-info/PKG-INFO\n",
            "  writing dependency_links to /tmp/pip-pip-egg-info-yqgwvxco/antlr4_python3_runtime.egg-info/dependency_links.txt\n",
            "  writing requirements to /tmp/pip-pip-egg-info-yqgwvxco/antlr4_python3_runtime.egg-info/requires.txt\n",
            "  writing top-level names to /tmp/pip-pip-egg-info-yqgwvxco/antlr4_python3_runtime.egg-info/top_level.txt\n",
            "  writing manifest file '/tmp/pip-pip-egg-info-yqgwvxco/antlr4_python3_runtime.egg-info/SOURCES.txt'\n",
            "  reading manifest file '/tmp/pip-pip-egg-info-yqgwvxco/antlr4_python3_runtime.egg-info/SOURCES.txt'\n",
            "  reading manifest template 'MANIFEST.in'\n",
            "  warning: no files found matching '*.py' under directory 'test'\n",
            "  warning: no files found matching '*.c' under directory 'test'\n",
            "  writing manifest file '/tmp/pip-pip-egg-info-yqgwvxco/antlr4_python3_runtime.egg-info/SOURCES.txt'\n",
            "  Preparing metadata (setup.py) ... \u001b[?25l\u001b[?25hdone\n",
            "Requirement already satisfied: markdown-it-py>=2.2.0 in /usr/local/lib/python3.10/dist-packages (from rich>=13.5.2->anomalib) (3.0.0)\n",
            "Requirement already satisfied: pygments<3.0.0,>=2.13.0 in /usr/local/lib/python3.10/dist-packages (from rich>=13.5.2->anomalib) (2.16.1)\n",
            "Requirement already satisfied: mdurl~=0.1 in /usr/local/lib/python3.10/dist-packages (from markdown-it-py>=2.2.0->rich>=13.5.2->anomalib) (0.1.2)\n",
            "Requirement already satisfied: importlib-resources>=1.4.0 in /usr/local/lib/python3.10/dist-packages (from typeshed-client>=2.1.0->jsonargparse[signatures]>=4.3->anomalib) (6.1.2)\n",
            "Requirement already satisfied: typing-extensions>=4.5.0 in /usr/local/lib/python3.10/dist-packages (from typeshed-client>=2.1.0->jsonargparse[signatures]>=4.3->anomalib) (4.10.0)\n",
            "Building wheels for collected packages: antlr4-python3-runtime\n",
            "  Running command python setup.py bdist_wheel\n",
            "  running bdist_wheel\n",
            "  running build\n",
            "  running build_py\n",
            "  creating build\n",
            "  creating build/lib\n",
            "  creating build/lib/antlr4\n",
            "  copying src/antlr4/CommonTokenStream.py -> build/lib/antlr4\n",
            "  copying src/antlr4/Token.py -> build/lib/antlr4\n",
            "  copying src/antlr4/PredictionContext.py -> build/lib/antlr4\n",
            "  copying src/antlr4/FileStream.py -> build/lib/antlr4\n",
            "  copying src/antlr4/InputStream.py -> build/lib/antlr4\n",
            "  copying src/antlr4/__init__.py -> build/lib/antlr4\n",
            "  copying src/antlr4/BufferedTokenStream.py -> build/lib/antlr4\n",
            "  copying src/antlr4/StdinStream.py -> build/lib/antlr4\n",
            "  copying src/antlr4/Parser.py -> build/lib/antlr4\n",
            "  copying src/antlr4/RuleContext.py -> build/lib/antlr4\n",
            "  copying src/antlr4/ParserInterpreter.py -> build/lib/antlr4\n",
            "  copying src/antlr4/TokenStreamRewriter.py -> build/lib/antlr4\n",
            "  copying src/antlr4/Lexer.py -> build/lib/antlr4\n",
            "  copying src/antlr4/CommonTokenFactory.py -> build/lib/antlr4\n",
            "  copying src/antlr4/IntervalSet.py -> build/lib/antlr4\n",
            "  copying src/antlr4/ParserRuleContext.py -> build/lib/antlr4\n",
            "  copying src/antlr4/Utils.py -> build/lib/antlr4\n",
            "  copying src/antlr4/Recognizer.py -> build/lib/antlr4\n",
            "  copying src/antlr4/ListTokenSource.py -> build/lib/antlr4\n",
            "  copying src/antlr4/LL1Analyzer.py -> build/lib/antlr4\n",
            "  creating build/lib/antlr4/atn\n",
            "  copying src/antlr4/atn/ATNSimulator.py -> build/lib/antlr4/atn\n",
            "  copying src/antlr4/atn/ATNType.py -> build/lib/antlr4/atn\n",
            "  copying src/antlr4/atn/ATNDeserializer.py -> build/lib/antlr4/atn\n",
            "  copying src/antlr4/atn/PredictionMode.py -> build/lib/antlr4/atn\n",
            "  copying src/antlr4/atn/ParserATNSimulator.py -> build/lib/antlr4/atn\n",
            "  copying src/antlr4/atn/__init__.py -> build/lib/antlr4/atn\n",
            "  copying src/antlr4/atn/LexerAction.py -> build/lib/antlr4/atn\n",
            "  copying src/antlr4/atn/Transition.py -> build/lib/antlr4/atn\n",
            "  copying src/antlr4/atn/ATN.py -> build/lib/antlr4/atn\n",
            "  copying src/antlr4/atn/ATNConfig.py -> build/lib/antlr4/atn\n",
            "  copying src/antlr4/atn/ATNConfigSet.py -> build/lib/antlr4/atn\n",
            "  copying src/antlr4/atn/ATNDeserializationOptions.py -> build/lib/antlr4/atn\n",
            "  copying src/antlr4/atn/ATNState.py -> build/lib/antlr4/atn\n",
            "  copying src/antlr4/atn/LexerActionExecutor.py -> build/lib/antlr4/atn\n",
            "  copying src/antlr4/atn/LexerATNSimulator.py -> build/lib/antlr4/atn\n",
            "  copying src/antlr4/atn/SemanticContext.py -> build/lib/antlr4/atn\n",
            "  creating build/lib/antlr4/dfa\n",
            "  copying src/antlr4/dfa/DFAState.py -> build/lib/antlr4/dfa\n",
            "  copying src/antlr4/dfa/__init__.py -> build/lib/antlr4/dfa\n",
            "  copying src/antlr4/dfa/DFASerializer.py -> build/lib/antlr4/dfa\n",
            "  copying src/antlr4/dfa/DFA.py -> build/lib/antlr4/dfa\n",
            "  creating build/lib/antlr4/tree\n",
            "  copying src/antlr4/tree/ParseTreePatternMatcher.py -> build/lib/antlr4/tree\n",
            "  copying src/antlr4/tree/ParseTreeMatch.py -> build/lib/antlr4/tree\n",
            "  copying src/antlr4/tree/__init__.py -> build/lib/antlr4/tree\n",
            "  copying src/antlr4/tree/Chunk.py -> build/lib/antlr4/tree\n",
            "  copying src/antlr4/tree/Tree.py -> build/lib/antlr4/tree\n",
            "  copying src/antlr4/tree/Trees.py -> build/lib/antlr4/tree\n",
            "  copying src/antlr4/tree/TokenTagToken.py -> build/lib/antlr4/tree\n",
            "  copying src/antlr4/tree/RuleTagToken.py -> build/lib/antlr4/tree\n",
            "  copying src/antlr4/tree/ParseTreePattern.py -> build/lib/antlr4/tree\n",
            "  creating build/lib/antlr4/error\n",
            "  copying src/antlr4/error/ErrorStrategy.py -> build/lib/antlr4/error\n",
            "  copying src/antlr4/error/Errors.py -> build/lib/antlr4/error\n",
            "  copying src/antlr4/error/__init__.py -> build/lib/antlr4/error\n",
            "  copying src/antlr4/error/ErrorListener.py -> build/lib/antlr4/error\n",
            "  copying src/antlr4/error/DiagnosticErrorListener.py -> build/lib/antlr4/error\n",
            "  creating build/lib/antlr4/xpath\n",
            "  copying src/antlr4/xpath/__init__.py -> build/lib/antlr4/xpath\n",
            "  copying src/antlr4/xpath/XPath.py -> build/lib/antlr4/xpath\n",
            "  running build_scripts\n",
            "  creating build/scripts-3.10\n",
            "  copying and adjusting bin/pygrun -> build/scripts-3.10\n",
            "  changing mode of build/scripts-3.10/pygrun from 644 to 755\n",
            "  /usr/local/lib/python3.10/dist-packages/setuptools/_distutils/cmd.py:66: SetuptoolsDeprecationWarning: setup.py install is deprecated.\n",
            "  !!\n",
            "\n",
            "          ********************************************************************************\n",
            "          Please avoid running ``setup.py`` directly.\n",
            "          Instead, use pypa/build, pypa/installer, pypa/build or\n",
            "          other standards-based tools.\n",
            "\n",
            "          See https://blog.ganssle.io/articles/2021/10/setup-py-deprecated.html for details.\n",
            "          ********************************************************************************\n",
            "\n",
            "  !!\n",
            "    self.initialize_options()\n",
            "  installing to build/bdist.linux-x86_64/wheel\n",
            "  running install\n",
            "  running install_lib\n",
            "  creating build/bdist.linux-x86_64\n",
            "  creating build/bdist.linux-x86_64/wheel\n",
            "  creating build/bdist.linux-x86_64/wheel/antlr4\n",
            "  copying build/lib/antlr4/CommonTokenStream.py -> build/bdist.linux-x86_64/wheel/antlr4\n",
            "  creating build/bdist.linux-x86_64/wheel/antlr4/atn\n",
            "  copying build/lib/antlr4/atn/ATNSimulator.py -> build/bdist.linux-x86_64/wheel/antlr4/atn\n",
            "  copying build/lib/antlr4/atn/ATNType.py -> build/bdist.linux-x86_64/wheel/antlr4/atn\n",
            "  copying build/lib/antlr4/atn/ATNDeserializer.py -> build/bdist.linux-x86_64/wheel/antlr4/atn\n",
            "  copying build/lib/antlr4/atn/PredictionMode.py -> build/bdist.linux-x86_64/wheel/antlr4/atn\n",
            "  copying build/lib/antlr4/atn/ParserATNSimulator.py -> build/bdist.linux-x86_64/wheel/antlr4/atn\n",
            "  copying build/lib/antlr4/atn/__init__.py -> build/bdist.linux-x86_64/wheel/antlr4/atn\n",
            "  copying build/lib/antlr4/atn/LexerAction.py -> build/bdist.linux-x86_64/wheel/antlr4/atn\n",
            "  copying build/lib/antlr4/atn/Transition.py -> build/bdist.linux-x86_64/wheel/antlr4/atn\n",
            "  copying build/lib/antlr4/atn/ATN.py -> build/bdist.linux-x86_64/wheel/antlr4/atn\n",
            "  copying build/lib/antlr4/atn/ATNConfig.py -> build/bdist.linux-x86_64/wheel/antlr4/atn\n",
            "  copying build/lib/antlr4/atn/ATNConfigSet.py -> build/bdist.linux-x86_64/wheel/antlr4/atn\n",
            "  copying build/lib/antlr4/atn/ATNDeserializationOptions.py -> build/bdist.linux-x86_64/wheel/antlr4/atn\n",
            "  copying build/lib/antlr4/atn/ATNState.py -> build/bdist.linux-x86_64/wheel/antlr4/atn\n",
            "  copying build/lib/antlr4/atn/LexerActionExecutor.py -> build/bdist.linux-x86_64/wheel/antlr4/atn\n",
            "  copying build/lib/antlr4/atn/LexerATNSimulator.py -> build/bdist.linux-x86_64/wheel/antlr4/atn\n",
            "  copying build/lib/antlr4/atn/SemanticContext.py -> build/bdist.linux-x86_64/wheel/antlr4/atn\n",
            "  copying build/lib/antlr4/Token.py -> build/bdist.linux-x86_64/wheel/antlr4\n",
            "  copying build/lib/antlr4/PredictionContext.py -> build/bdist.linux-x86_64/wheel/antlr4\n",
            "  creating build/bdist.linux-x86_64/wheel/antlr4/xpath\n",
            "  copying build/lib/antlr4/xpath/__init__.py -> build/bdist.linux-x86_64/wheel/antlr4/xpath\n",
            "  copying build/lib/antlr4/xpath/XPath.py -> build/bdist.linux-x86_64/wheel/antlr4/xpath\n",
            "  copying build/lib/antlr4/FileStream.py -> build/bdist.linux-x86_64/wheel/antlr4\n",
            "  copying build/lib/antlr4/InputStream.py -> build/bdist.linux-x86_64/wheel/antlr4\n",
            "  copying build/lib/antlr4/__init__.py -> build/bdist.linux-x86_64/wheel/antlr4\n",
            "  copying build/lib/antlr4/BufferedTokenStream.py -> build/bdist.linux-x86_64/wheel/antlr4\n",
            "  copying build/lib/antlr4/StdinStream.py -> build/bdist.linux-x86_64/wheel/antlr4\n",
            "  copying build/lib/antlr4/Parser.py -> build/bdist.linux-x86_64/wheel/antlr4\n",
            "  copying build/lib/antlr4/RuleContext.py -> build/bdist.linux-x86_64/wheel/antlr4\n",
            "  copying build/lib/antlr4/ParserInterpreter.py -> build/bdist.linux-x86_64/wheel/antlr4\n",
            "  copying build/lib/antlr4/TokenStreamRewriter.py -> build/bdist.linux-x86_64/wheel/antlr4\n",
            "  creating build/bdist.linux-x86_64/wheel/antlr4/error\n",
            "  copying build/lib/antlr4/error/ErrorStrategy.py -> build/bdist.linux-x86_64/wheel/antlr4/error\n",
            "  copying build/lib/antlr4/error/Errors.py -> build/bdist.linux-x86_64/wheel/antlr4/error\n",
            "  copying build/lib/antlr4/error/__init__.py -> build/bdist.linux-x86_64/wheel/antlr4/error\n",
            "  copying build/lib/antlr4/error/ErrorListener.py -> build/bdist.linux-x86_64/wheel/antlr4/error\n",
            "  copying build/lib/antlr4/error/DiagnosticErrorListener.py -> build/bdist.linux-x86_64/wheel/antlr4/error\n",
            "  copying build/lib/antlr4/Lexer.py -> build/bdist.linux-x86_64/wheel/antlr4\n",
            "  copying build/lib/antlr4/CommonTokenFactory.py -> build/bdist.linux-x86_64/wheel/antlr4\n",
            "  creating build/bdist.linux-x86_64/wheel/antlr4/dfa\n",
            "  copying build/lib/antlr4/dfa/DFAState.py -> build/bdist.linux-x86_64/wheel/antlr4/dfa\n",
            "  copying build/lib/antlr4/dfa/__init__.py -> build/bdist.linux-x86_64/wheel/antlr4/dfa\n",
            "  copying build/lib/antlr4/dfa/DFASerializer.py -> build/bdist.linux-x86_64/wheel/antlr4/dfa\n",
            "  copying build/lib/antlr4/dfa/DFA.py -> build/bdist.linux-x86_64/wheel/antlr4/dfa\n",
            "  copying build/lib/antlr4/IntervalSet.py -> build/bdist.linux-x86_64/wheel/antlr4\n",
            "  copying build/lib/antlr4/ParserRuleContext.py -> build/bdist.linux-x86_64/wheel/antlr4\n",
            "  creating build/bdist.linux-x86_64/wheel/antlr4/tree\n",
            "  copying build/lib/antlr4/tree/ParseTreePatternMatcher.py -> build/bdist.linux-x86_64/wheel/antlr4/tree\n",
            "  copying build/lib/antlr4/tree/ParseTreeMatch.py -> build/bdist.linux-x86_64/wheel/antlr4/tree\n",
            "  copying build/lib/antlr4/tree/__init__.py -> build/bdist.linux-x86_64/wheel/antlr4/tree\n",
            "  copying build/lib/antlr4/tree/Chunk.py -> build/bdist.linux-x86_64/wheel/antlr4/tree\n",
            "  copying build/lib/antlr4/tree/Tree.py -> build/bdist.linux-x86_64/wheel/antlr4/tree\n",
            "  copying build/lib/antlr4/tree/Trees.py -> build/bdist.linux-x86_64/wheel/antlr4/tree\n",
            "  copying build/lib/antlr4/tree/TokenTagToken.py -> build/bdist.linux-x86_64/wheel/antlr4/tree\n",
            "  copying build/lib/antlr4/tree/RuleTagToken.py -> build/bdist.linux-x86_64/wheel/antlr4/tree\n",
            "  copying build/lib/antlr4/tree/ParseTreePattern.py -> build/bdist.linux-x86_64/wheel/antlr4/tree\n",
            "  copying build/lib/antlr4/Utils.py -> build/bdist.linux-x86_64/wheel/antlr4\n",
            "  copying build/lib/antlr4/Recognizer.py -> build/bdist.linux-x86_64/wheel/antlr4\n",
            "  copying build/lib/antlr4/ListTokenSource.py -> build/bdist.linux-x86_64/wheel/antlr4\n",
            "  copying build/lib/antlr4/LL1Analyzer.py -> build/bdist.linux-x86_64/wheel/antlr4\n",
            "  running install_egg_info\n",
            "  running egg_info\n",
            "  writing src/antlr4_python3_runtime.egg-info/PKG-INFO\n",
            "  writing dependency_links to src/antlr4_python3_runtime.egg-info/dependency_links.txt\n",
            "  writing requirements to src/antlr4_python3_runtime.egg-info/requires.txt\n",
            "  writing top-level names to src/antlr4_python3_runtime.egg-info/top_level.txt\n",
            "  reading manifest file 'src/antlr4_python3_runtime.egg-info/SOURCES.txt'\n",
            "  reading manifest template 'MANIFEST.in'\n",
            "  warning: no files found matching '*.py' under directory 'test'\n",
            "  warning: no files found matching '*.c' under directory 'test'\n",
            "  writing manifest file 'src/antlr4_python3_runtime.egg-info/SOURCES.txt'\n",
            "  Copying src/antlr4_python3_runtime.egg-info to build/bdist.linux-x86_64/wheel/antlr4_python3_runtime-4.9.3-py3.10.egg-info\n",
            "  running install_scripts\n",
            "  creating build/bdist.linux-x86_64/wheel/antlr4_python3_runtime-4.9.3.data\n",
            "  creating build/bdist.linux-x86_64/wheel/antlr4_python3_runtime-4.9.3.data/scripts\n",
            "  copying build/scripts-3.10/pygrun -> build/bdist.linux-x86_64/wheel/antlr4_python3_runtime-4.9.3.data/scripts\n",
            "  changing mode of build/bdist.linux-x86_64/wheel/antlr4_python3_runtime-4.9.3.data/scripts/pygrun to 755\n",
            "  creating build/bdist.linux-x86_64/wheel/antlr4_python3_runtime-4.9.3.dist-info/WHEEL\n",
            "  creating '/tmp/pip-wheel-mwb6dghg/antlr4_python3_runtime-4.9.3-py3-none-any.whl' and adding 'build/bdist.linux-x86_64/wheel' to it\n",
            "  adding 'antlr4/BufferedTokenStream.py'\n",
            "  adding 'antlr4/CommonTokenFactory.py'\n",
            "  adding 'antlr4/CommonTokenStream.py'\n",
            "  adding 'antlr4/FileStream.py'\n",
            "  adding 'antlr4/InputStream.py'\n",
            "  adding 'antlr4/IntervalSet.py'\n",
            "  adding 'antlr4/LL1Analyzer.py'\n",
            "  adding 'antlr4/Lexer.py'\n",
            "  adding 'antlr4/ListTokenSource.py'\n",
            "  adding 'antlr4/Parser.py'\n",
            "  adding 'antlr4/ParserInterpreter.py'\n",
            "  adding 'antlr4/ParserRuleContext.py'\n",
            "  adding 'antlr4/PredictionContext.py'\n",
            "  adding 'antlr4/Recognizer.py'\n",
            "  adding 'antlr4/RuleContext.py'\n",
            "  adding 'antlr4/StdinStream.py'\n",
            "  adding 'antlr4/Token.py'\n",
            "  adding 'antlr4/TokenStreamRewriter.py'\n",
            "  adding 'antlr4/Utils.py'\n",
            "  adding 'antlr4/__init__.py'\n",
            "  adding 'antlr4/atn/ATN.py'\n",
            "  adding 'antlr4/atn/ATNConfig.py'\n",
            "  adding 'antlr4/atn/ATNConfigSet.py'\n",
            "  adding 'antlr4/atn/ATNDeserializationOptions.py'\n",
            "  adding 'antlr4/atn/ATNDeserializer.py'\n",
            "  adding 'antlr4/atn/ATNSimulator.py'\n",
            "  adding 'antlr4/atn/ATNState.py'\n",
            "  adding 'antlr4/atn/ATNType.py'\n",
            "  adding 'antlr4/atn/LexerATNSimulator.py'\n",
            "  adding 'antlr4/atn/LexerAction.py'\n",
            "  adding 'antlr4/atn/LexerActionExecutor.py'\n",
            "  adding 'antlr4/atn/ParserATNSimulator.py'\n",
            "  adding 'antlr4/atn/PredictionMode.py'\n",
            "  adding 'antlr4/atn/SemanticContext.py'\n",
            "  adding 'antlr4/atn/Transition.py'\n",
            "  adding 'antlr4/atn/__init__.py'\n",
            "  adding 'antlr4/dfa/DFA.py'\n",
            "  adding 'antlr4/dfa/DFASerializer.py'\n",
            "  adding 'antlr4/dfa/DFAState.py'\n",
            "  adding 'antlr4/dfa/__init__.py'\n",
            "  adding 'antlr4/error/DiagnosticErrorListener.py'\n",
            "  adding 'antlr4/error/ErrorListener.py'\n",
            "  adding 'antlr4/error/ErrorStrategy.py'\n",
            "  adding 'antlr4/error/Errors.py'\n",
            "  adding 'antlr4/error/__init__.py'\n",
            "  adding 'antlr4/tree/Chunk.py'\n",
            "  adding 'antlr4/tree/ParseTreeMatch.py'\n",
            "  adding 'antlr4/tree/ParseTreePattern.py'\n",
            "  adding 'antlr4/tree/ParseTreePatternMatcher.py'\n",
            "  adding 'antlr4/tree/RuleTagToken.py'\n",
            "  adding 'antlr4/tree/TokenTagToken.py'\n",
            "  adding 'antlr4/tree/Tree.py'\n",
            "  adding 'antlr4/tree/Trees.py'\n",
            "  adding 'antlr4/tree/__init__.py'\n",
            "  adding 'antlr4/xpath/XPath.py'\n",
            "  adding 'antlr4/xpath/__init__.py'\n",
            "  adding 'antlr4_python3_runtime-4.9.3.data/scripts/pygrun'\n",
            "  adding 'antlr4_python3_runtime-4.9.3.dist-info/METADATA'\n",
            "  adding 'antlr4_python3_runtime-4.9.3.dist-info/WHEEL'\n",
            "  adding 'antlr4_python3_runtime-4.9.3.dist-info/top_level.txt'\n",
            "  adding 'antlr4_python3_runtime-4.9.3.dist-info/RECORD'\n",
            "  removing build/bdist.linux-x86_64/wheel\n",
            "  Building wheel for antlr4-python3-runtime (setup.py) ... \u001b[?25l\u001b[?25hdone\n",
            "  Created wheel for antlr4-python3-runtime: filename=antlr4_python3_runtime-4.9.3-py3-none-any.whl size=144554 sha256=4cd9aa4617b50510032c103b216b6b2a39da67a0a61a8284dd855d8157aae60c\n",
            "  Stored in directory: /root/.cache/pip/wheels/12/93/dd/1f6a127edc45659556564c5730f6d4e300888f4bca2d4c5a88\n",
            "Successfully built antlr4-python3-runtime\n",
            "Installing collected packages: antlr4-python3-runtime, typeshed-client, omegaconf, jsonargparse, install, docstring-parser, rich-argparse, anomalib\n",
            "  changing mode of /usr/local/bin/anomalib to 755\n",
            "Successfully installed anomalib-1.0.0 antlr4-python3-runtime-4.9.3 docstring-parser-0.15 install-1.3.5 jsonargparse-4.27.5 omegaconf-2.3.0 rich-argparse-1.4.0 typeshed-client-2.5.1\n"
          ]
        },
        {
          "output_type": "display_data",
          "data": {
            "application/vnd.colab-display-data+json": {
              "pip_warning": {
                "packages": [
                  "pydevd_plugins"
                ]
              },
              "id": "b0d0b883a2b44409b2b9f47a2915a6a8"
            }
          },
          "metadata": {}
        }
      ]
    },
    {
      "cell_type": "code",
      "source": [],
      "metadata": {
        "id": "m3JIwlPhtsgx"
      },
      "execution_count": null,
      "outputs": []
    },
    {
      "cell_type": "markdown",
      "source": [
        "import os\n",
        "from pathlib import Path\n",
        "from git.repo import Repo\n",
        "\n",
        "current_directory = Path.cwd()\n",
        "if current_directory.name == \"000_getting_started\":\n",
        "    # On the assumption that. the notebook is located in ~/anomalib/notebooks/000_getting_started/\n",
        "    root_directory = current_directory.parent.parent\n",
        "elif current_directory.name == \"anomalib\":\n",
        "    # This means that the notebook is run from the main anomalib directory\n",
        "    root_directory = current_directory\n",
        "else:\n",
        "    # Otherwise, we will need to clone the anomalib repo to the 'current_directory'\n",
        "    repo = Repo.clone_from(\n",
        "        url = \"https://github.com/openvinotoolkit/anomalib.git\",\n",
        "        to_path = current_directory\n",
        "    )\n",
        "    root_directory = current_directory / \"anomalib\"\n",
        "\n",
        "os.chdir(root_directory)"
      ],
      "metadata": {
        "id": "p9tHfDVEt6hi"
      }
    },
    {
      "cell_type": "code",
      "source": [
        "import os\n",
        "import git\n",
        "from pathlib import Path\n",
        "from git.repo import Repo\n",
        "\n",
        "current_directory = Path.cwd()\n",
        "if current_directory.name == \"000_getting_started\":\n",
        "    # On the assumption that. the notebook is located in ~/anomalib/notebooks/000_getting_started/\n",
        "    root_directory = current_directory.parent.parent\n",
        "elif current_directory.name == \"anomalib\":\n",
        "    # This means that the notebook is run from the main anomalib directory\n",
        "    root_directory = current_directory\n",
        "else:\n",
        "    # Otherwise, we will need to clone the anomalib repo to the 'current_directory'\n",
        "    repo = Repo.clone_from(\n",
        "        url = \"https://github.com/openvinotoolkit/anomalib.git\",\n",
        "        to_path = current_directory\n",
        "    )\n",
        "    root_directory = current_directory / \"anomalib\"\n",
        "\n",
        "os.chdir(root_directory)"
      ],
      "metadata": {
        "colab": {
          "base_uri": "https://localhost:8080/",
          "height": 408
        },
        "id": "LQkfdMOrujOt",
        "outputId": "75866fe6-0e8d-4f65-e386-43b2992d14d2"
      },
      "execution_count": 2,
      "outputs": [
        {
          "output_type": "error",
          "ename": "GitCommandError",
          "evalue": "Cmd('git') failed due to: exit code(128)\n  cmdline: git clone -v -- https://github.com/openvinotoolkit/anomalib.git /content\n  stderr: 'fatal: destination path '/content' already exists and is not an empty directory.\n'",
          "traceback": [
            "\u001b[0;31m---------------------------------------------------------------------------\u001b[0m",
            "\u001b[0;31mGitCommandError\u001b[0m                           Traceback (most recent call last)",
            "\u001b[0;32m<ipython-input-2-bbf14403c80d>\u001b[0m in \u001b[0;36m<cell line: 7>\u001b[0;34m()\u001b[0m\n\u001b[1;32m     13\u001b[0m \u001b[0;32melse\u001b[0m\u001b[0;34m:\u001b[0m\u001b[0;34m\u001b[0m\u001b[0;34m\u001b[0m\u001b[0m\n\u001b[1;32m     14\u001b[0m     \u001b[0;31m# Otherwise, we will need to clone the anomalib repo to the 'current_directory'\u001b[0m\u001b[0;34m\u001b[0m\u001b[0;34m\u001b[0m\u001b[0m\n\u001b[0;32m---> 15\u001b[0;31m     repo = Repo.clone_from(\n\u001b[0m\u001b[1;32m     16\u001b[0m         \u001b[0murl\u001b[0m \u001b[0;34m=\u001b[0m \u001b[0;34m\"https://github.com/openvinotoolkit/anomalib.git\"\u001b[0m\u001b[0;34m,\u001b[0m\u001b[0;34m\u001b[0m\u001b[0;34m\u001b[0m\u001b[0m\n\u001b[1;32m     17\u001b[0m         \u001b[0mto_path\u001b[0m \u001b[0;34m=\u001b[0m \u001b[0mcurrent_directory\u001b[0m\u001b[0;34m\u001b[0m\u001b[0;34m\u001b[0m\u001b[0m\n",
            "\u001b[0;32m/usr/local/lib/python3.10/dist-packages/git/repo/base.py\u001b[0m in \u001b[0;36mclone_from\u001b[0;34m(cls, url, to_path, progress, env, multi_options, allow_unsafe_protocols, allow_unsafe_options, **kwargs)\u001b[0m\n\u001b[1;32m   1403\u001b[0m         \u001b[0;32mif\u001b[0m \u001b[0menv\u001b[0m \u001b[0;32mis\u001b[0m \u001b[0;32mnot\u001b[0m \u001b[0;32mNone\u001b[0m\u001b[0;34m:\u001b[0m\u001b[0;34m\u001b[0m\u001b[0;34m\u001b[0m\u001b[0m\n\u001b[1;32m   1404\u001b[0m             \u001b[0mgit\u001b[0m\u001b[0;34m.\u001b[0m\u001b[0mupdate_environment\u001b[0m\u001b[0;34m(\u001b[0m\u001b[0;34m**\u001b[0m\u001b[0menv\u001b[0m\u001b[0;34m)\u001b[0m\u001b[0;34m\u001b[0m\u001b[0;34m\u001b[0m\u001b[0m\n\u001b[0;32m-> 1405\u001b[0;31m         return cls._clone(\n\u001b[0m\u001b[1;32m   1406\u001b[0m             \u001b[0mgit\u001b[0m\u001b[0;34m,\u001b[0m\u001b[0;34m\u001b[0m\u001b[0;34m\u001b[0m\u001b[0m\n\u001b[1;32m   1407\u001b[0m             \u001b[0murl\u001b[0m\u001b[0;34m,\u001b[0m\u001b[0;34m\u001b[0m\u001b[0;34m\u001b[0m\u001b[0m\n",
            "\u001b[0;32m/usr/local/lib/python3.10/dist-packages/git/repo/base.py\u001b[0m in \u001b[0;36m_clone\u001b[0;34m(cls, git, url, path, odb_default_type, progress, multi_options, allow_unsafe_protocols, allow_unsafe_options, **kwargs)\u001b[0m\n\u001b[1;32m   1300\u001b[0m \u001b[0;34m\u001b[0m\u001b[0m\n\u001b[1;32m   1301\u001b[0m             \u001b[0m_logger\u001b[0m\u001b[0;34m.\u001b[0m\u001b[0mdebug\u001b[0m\u001b[0;34m(\u001b[0m\u001b[0;34m\"Cmd(%s)'s unused stdout: %s\"\u001b[0m\u001b[0;34m,\u001b[0m \u001b[0mcmdline\u001b[0m\u001b[0;34m,\u001b[0m \u001b[0mstdout\u001b[0m\u001b[0;34m)\u001b[0m\u001b[0;34m\u001b[0m\u001b[0;34m\u001b[0m\u001b[0m\n\u001b[0;32m-> 1302\u001b[0;31m             \u001b[0mfinalize_process\u001b[0m\u001b[0;34m(\u001b[0m\u001b[0mproc\u001b[0m\u001b[0;34m,\u001b[0m \u001b[0mstderr\u001b[0m\u001b[0;34m=\u001b[0m\u001b[0mstderr\u001b[0m\u001b[0;34m)\u001b[0m\u001b[0;34m\u001b[0m\u001b[0;34m\u001b[0m\u001b[0m\n\u001b[0m\u001b[1;32m   1303\u001b[0m \u001b[0;34m\u001b[0m\u001b[0m\n\u001b[1;32m   1304\u001b[0m         \u001b[0;31m# Our git command could have a different working dir than our actual\u001b[0m\u001b[0;34m\u001b[0m\u001b[0;34m\u001b[0m\u001b[0m\n",
            "\u001b[0;32m/usr/local/lib/python3.10/dist-packages/git/util.py\u001b[0m in \u001b[0;36mfinalize_process\u001b[0;34m(proc, **kwargs)\u001b[0m\n\u001b[1;32m    481\u001b[0m     \u001b[0;34m\"\"\"Wait for the process (clone, fetch, pull or push) and handle its errors accordingly\"\"\"\u001b[0m\u001b[0;34m\u001b[0m\u001b[0;34m\u001b[0m\u001b[0m\n\u001b[1;32m    482\u001b[0m     \u001b[0;31m# TODO: No close proc-streams??\u001b[0m\u001b[0;34m\u001b[0m\u001b[0;34m\u001b[0m\u001b[0m\n\u001b[0;32m--> 483\u001b[0;31m     \u001b[0mproc\u001b[0m\u001b[0;34m.\u001b[0m\u001b[0mwait\u001b[0m\u001b[0;34m(\u001b[0m\u001b[0;34m**\u001b[0m\u001b[0mkwargs\u001b[0m\u001b[0;34m)\u001b[0m\u001b[0;34m\u001b[0m\u001b[0;34m\u001b[0m\u001b[0m\n\u001b[0m\u001b[1;32m    484\u001b[0m \u001b[0;34m\u001b[0m\u001b[0m\n\u001b[1;32m    485\u001b[0m \u001b[0;34m\u001b[0m\u001b[0m\n",
            "\u001b[0;32m/usr/local/lib/python3.10/dist-packages/git/cmd.py\u001b[0m in \u001b[0;36mwait\u001b[0;34m(self, stderr)\u001b[0m\n\u001b[1;32m    655\u001b[0m                 \u001b[0merrstr\u001b[0m \u001b[0;34m=\u001b[0m \u001b[0mread_all_from_possibly_closed_stream\u001b[0m\u001b[0;34m(\u001b[0m\u001b[0mp_stderr\u001b[0m\u001b[0;34m)\u001b[0m\u001b[0;34m\u001b[0m\u001b[0;34m\u001b[0m\u001b[0m\n\u001b[1;32m    656\u001b[0m                 \u001b[0m_logger\u001b[0m\u001b[0;34m.\u001b[0m\u001b[0mdebug\u001b[0m\u001b[0;34m(\u001b[0m\u001b[0;34m\"AutoInterrupt wait stderr: %r\"\u001b[0m \u001b[0;34m%\u001b[0m \u001b[0;34m(\u001b[0m\u001b[0merrstr\u001b[0m\u001b[0;34m,\u001b[0m\u001b[0;34m)\u001b[0m\u001b[0;34m)\u001b[0m\u001b[0;34m\u001b[0m\u001b[0;34m\u001b[0m\u001b[0m\n\u001b[0;32m--> 657\u001b[0;31m                 \u001b[0;32mraise\u001b[0m \u001b[0mGitCommandError\u001b[0m\u001b[0;34m(\u001b[0m\u001b[0mremove_password_if_present\u001b[0m\u001b[0;34m(\u001b[0m\u001b[0mself\u001b[0m\u001b[0;34m.\u001b[0m\u001b[0margs\u001b[0m\u001b[0;34m)\u001b[0m\u001b[0;34m,\u001b[0m \u001b[0mstatus\u001b[0m\u001b[0;34m,\u001b[0m \u001b[0merrstr\u001b[0m\u001b[0;34m)\u001b[0m\u001b[0;34m\u001b[0m\u001b[0;34m\u001b[0m\u001b[0m\n\u001b[0m\u001b[1;32m    658\u001b[0m             \u001b[0;32mreturn\u001b[0m \u001b[0mstatus\u001b[0m\u001b[0;34m\u001b[0m\u001b[0;34m\u001b[0m\u001b[0m\n\u001b[1;32m    659\u001b[0m \u001b[0;34m\u001b[0m\u001b[0m\n",
            "\u001b[0;31mGitCommandError\u001b[0m: Cmd('git') failed due to: exit code(128)\n  cmdline: git clone -v -- https://github.com/openvinotoolkit/anomalib.git /content\n  stderr: 'fatal: destination path '/content' already exists and is not an empty directory.\n'"
          ]
        }
      ]
    },
    {
      "cell_type": "code",
      "source": [],
      "metadata": {
        "id": "AxOMIjDEQAZB"
      },
      "execution_count": null,
      "outputs": []
    },
    {
      "cell_type": "code",
      "source": [
        "!pip install gitPython"
      ],
      "metadata": {
        "colab": {
          "base_uri": "https://localhost:8080/"
        },
        "id": "akyLSC5NElXV",
        "outputId": "fd1fa707-16e6-4cf8-ba16-6a48af17f566"
      },
      "execution_count": 1,
      "outputs": [
        {
          "output_type": "stream",
          "name": "stdout",
          "text": [
            "Collecting gitPython\n",
            "  Downloading GitPython-3.1.42-py3-none-any.whl (195 kB)\n",
            "\u001b[?25l     \u001b[90m━━━━━━━━━━━━━━━━━━━━━━━━━━━━━━━━━━━━━━━━\u001b[0m \u001b[32m0.0/195.4 kB\u001b[0m \u001b[31m?\u001b[0m eta \u001b[36m-:--:--\u001b[0m\r\u001b[2K     \u001b[91m━━━━━━━━━━━━━━━━━━━━━━━━━━━━━\u001b[0m\u001b[90m╺\u001b[0m\u001b[90m━━━━━━━━━━\u001b[0m \u001b[32m143.4/195.4 kB\u001b[0m \u001b[31m4.1 MB/s\u001b[0m eta \u001b[36m0:00:01\u001b[0m\r\u001b[2K     \u001b[90m━━━━━━━━━━━━━━━━━━━━━━━━━━━━━━━━━━━━━━━━\u001b[0m \u001b[32m195.4/195.4 kB\u001b[0m \u001b[31m4.2 MB/s\u001b[0m eta \u001b[36m0:00:00\u001b[0m\n",
            "\u001b[?25hCollecting gitdb<5,>=4.0.1 (from gitPython)\n",
            "  Downloading gitdb-4.0.11-py3-none-any.whl (62 kB)\n",
            "\u001b[?25l     \u001b[90m━━━━━━━━━━━━━━━━━━━━━━━━━━━━━━━━━━━━━━━━\u001b[0m \u001b[32m0.0/62.7 kB\u001b[0m \u001b[31m?\u001b[0m eta \u001b[36m-:--:--\u001b[0m\r\u001b[2K     \u001b[90m━━━━━━━━━━━━━━━━━━━━━━━━━━━━━━━━━━━━━━━━\u001b[0m \u001b[32m62.7/62.7 kB\u001b[0m \u001b[31m6.9 MB/s\u001b[0m eta \u001b[36m0:00:00\u001b[0m\n",
            "\u001b[?25hCollecting smmap<6,>=3.0.1 (from gitdb<5,>=4.0.1->gitPython)\n",
            "  Downloading smmap-5.0.1-py3-none-any.whl (24 kB)\n",
            "Installing collected packages: smmap, gitdb, gitPython\n",
            "Successfully installed gitPython-3.1.42 gitdb-4.0.11 smmap-5.0.1\n"
          ]
        }
      ]
    },
    {
      "cell_type": "code",
      "source": [
        "import os\n",
        "import git\n",
        "from pathlib import Path\n",
        "from git.repo import Repo\n",
        "\n",
        "current_directory = Path.cwd()\n",
        "if current_directory.name == \"000_getting_started\":\n",
        "    # On the assumption that the notebook is located in ~/anomalib/notebooks/000_getting_started/\n",
        "    root_directory = current_directory.parent.parent\n",
        "elif current_directory.name == \"anomalib\":\n",
        "    # This means that the notebook is run from the main anomalib directory\n",
        "    root_directory = current_directory\n",
        "else:\n",
        "    # Otherwise, we will need to clone the anomalib repo to the 'current_directory'\n",
        "    repo = Repo.clone_from(\n",
        "        url = \"https://github.com/openvinotoolkit/anomalib.git\",\n",
        "        to_path = current_directory / \"anomalib\"\n",
        "    )\n",
        "    root_directory = current_directory / \"anomalib\"\n",
        "\n",
        "os.chdir(root_directory)\n",
        "\n",
        "# imports\n",
        "import numpy as np\n",
        "from matplotlib import pyplot as plt\n",
        "from PIL import Image\n",
        "from torchvision.transforms import ToPILImage\n",
        "\n",
        "from anomalib import TaskType\n",
        "from anomalib.data import MVTec\n",
        "from anomalib.data.utils import read_image\n",
        "from anomalib.deploy import ExportType, OpenVINOInferencer\n",
        "from anomalib.engine import Engine\n",
        "from anomalib.models import Padim\n"
      ],
      "metadata": {
        "colab": {
          "base_uri": "https://localhost:8080/",
          "height": 408
        },
        "id": "Zt14NCIJE3qz",
        "outputId": "7ea2bf5f-fb94-441b-8aa9-6b8e985b3886"
      },
      "execution_count": 1,
      "outputs": [
        {
          "output_type": "error",
          "ename": "GitCommandError",
          "evalue": "Cmd('git') failed due to: exit code(128)\n  cmdline: git clone -v -- https://github.com/openvinotoolkit/anomalib.git /content/anomalib\n  stderr: 'fatal: destination path '/content/anomalib' already exists and is not an empty directory.\n'",
          "traceback": [
            "\u001b[0;31m---------------------------------------------------------------------------\u001b[0m",
            "\u001b[0;31mGitCommandError\u001b[0m                           Traceback (most recent call last)",
            "\u001b[0;32m<ipython-input-1-49a6fda659b9>\u001b[0m in \u001b[0;36m<cell line: 7>\u001b[0;34m()\u001b[0m\n\u001b[1;32m     13\u001b[0m \u001b[0;32melse\u001b[0m\u001b[0;34m:\u001b[0m\u001b[0;34m\u001b[0m\u001b[0;34m\u001b[0m\u001b[0m\n\u001b[1;32m     14\u001b[0m     \u001b[0;31m# Otherwise, we will need to clone the anomalib repo to the 'current_directory'\u001b[0m\u001b[0;34m\u001b[0m\u001b[0;34m\u001b[0m\u001b[0m\n\u001b[0;32m---> 15\u001b[0;31m     repo = Repo.clone_from(\n\u001b[0m\u001b[1;32m     16\u001b[0m         \u001b[0murl\u001b[0m \u001b[0;34m=\u001b[0m \u001b[0;34m\"https://github.com/openvinotoolkit/anomalib.git\"\u001b[0m\u001b[0;34m,\u001b[0m\u001b[0;34m\u001b[0m\u001b[0;34m\u001b[0m\u001b[0m\n\u001b[1;32m     17\u001b[0m         \u001b[0mto_path\u001b[0m \u001b[0;34m=\u001b[0m \u001b[0mcurrent_directory\u001b[0m \u001b[0;34m/\u001b[0m \u001b[0;34m\"anomalib\"\u001b[0m\u001b[0;34m\u001b[0m\u001b[0;34m\u001b[0m\u001b[0m\n",
            "\u001b[0;32m/usr/local/lib/python3.10/dist-packages/git/repo/base.py\u001b[0m in \u001b[0;36mclone_from\u001b[0;34m(cls, url, to_path, progress, env, multi_options, allow_unsafe_protocols, allow_unsafe_options, **kwargs)\u001b[0m\n\u001b[1;32m   1403\u001b[0m         \u001b[0;32mif\u001b[0m \u001b[0menv\u001b[0m \u001b[0;32mis\u001b[0m \u001b[0;32mnot\u001b[0m \u001b[0;32mNone\u001b[0m\u001b[0;34m:\u001b[0m\u001b[0;34m\u001b[0m\u001b[0;34m\u001b[0m\u001b[0m\n\u001b[1;32m   1404\u001b[0m             \u001b[0mgit\u001b[0m\u001b[0;34m.\u001b[0m\u001b[0mupdate_environment\u001b[0m\u001b[0;34m(\u001b[0m\u001b[0;34m**\u001b[0m\u001b[0menv\u001b[0m\u001b[0;34m)\u001b[0m\u001b[0;34m\u001b[0m\u001b[0;34m\u001b[0m\u001b[0m\n\u001b[0;32m-> 1405\u001b[0;31m         return cls._clone(\n\u001b[0m\u001b[1;32m   1406\u001b[0m             \u001b[0mgit\u001b[0m\u001b[0;34m,\u001b[0m\u001b[0;34m\u001b[0m\u001b[0;34m\u001b[0m\u001b[0m\n\u001b[1;32m   1407\u001b[0m             \u001b[0murl\u001b[0m\u001b[0;34m,\u001b[0m\u001b[0;34m\u001b[0m\u001b[0;34m\u001b[0m\u001b[0m\n",
            "\u001b[0;32m/usr/local/lib/python3.10/dist-packages/git/repo/base.py\u001b[0m in \u001b[0;36m_clone\u001b[0;34m(cls, git, url, path, odb_default_type, progress, multi_options, allow_unsafe_protocols, allow_unsafe_options, **kwargs)\u001b[0m\n\u001b[1;32m   1300\u001b[0m \u001b[0;34m\u001b[0m\u001b[0m\n\u001b[1;32m   1301\u001b[0m             \u001b[0m_logger\u001b[0m\u001b[0;34m.\u001b[0m\u001b[0mdebug\u001b[0m\u001b[0;34m(\u001b[0m\u001b[0;34m\"Cmd(%s)'s unused stdout: %s\"\u001b[0m\u001b[0;34m,\u001b[0m \u001b[0mcmdline\u001b[0m\u001b[0;34m,\u001b[0m \u001b[0mstdout\u001b[0m\u001b[0;34m)\u001b[0m\u001b[0;34m\u001b[0m\u001b[0;34m\u001b[0m\u001b[0m\n\u001b[0;32m-> 1302\u001b[0;31m             \u001b[0mfinalize_process\u001b[0m\u001b[0;34m(\u001b[0m\u001b[0mproc\u001b[0m\u001b[0;34m,\u001b[0m \u001b[0mstderr\u001b[0m\u001b[0;34m=\u001b[0m\u001b[0mstderr\u001b[0m\u001b[0;34m)\u001b[0m\u001b[0;34m\u001b[0m\u001b[0;34m\u001b[0m\u001b[0m\n\u001b[0m\u001b[1;32m   1303\u001b[0m \u001b[0;34m\u001b[0m\u001b[0m\n\u001b[1;32m   1304\u001b[0m         \u001b[0;31m# Our git command could have a different working dir than our actual\u001b[0m\u001b[0;34m\u001b[0m\u001b[0;34m\u001b[0m\u001b[0m\n",
            "\u001b[0;32m/usr/local/lib/python3.10/dist-packages/git/util.py\u001b[0m in \u001b[0;36mfinalize_process\u001b[0;34m(proc, **kwargs)\u001b[0m\n\u001b[1;32m    481\u001b[0m     \u001b[0;34m\"\"\"Wait for the process (clone, fetch, pull or push) and handle its errors accordingly\"\"\"\u001b[0m\u001b[0;34m\u001b[0m\u001b[0;34m\u001b[0m\u001b[0m\n\u001b[1;32m    482\u001b[0m     \u001b[0;31m# TODO: No close proc-streams??\u001b[0m\u001b[0;34m\u001b[0m\u001b[0;34m\u001b[0m\u001b[0m\n\u001b[0;32m--> 483\u001b[0;31m     \u001b[0mproc\u001b[0m\u001b[0;34m.\u001b[0m\u001b[0mwait\u001b[0m\u001b[0;34m(\u001b[0m\u001b[0;34m**\u001b[0m\u001b[0mkwargs\u001b[0m\u001b[0;34m)\u001b[0m\u001b[0;34m\u001b[0m\u001b[0;34m\u001b[0m\u001b[0m\n\u001b[0m\u001b[1;32m    484\u001b[0m \u001b[0;34m\u001b[0m\u001b[0m\n\u001b[1;32m    485\u001b[0m \u001b[0;34m\u001b[0m\u001b[0m\n",
            "\u001b[0;32m/usr/local/lib/python3.10/dist-packages/git/cmd.py\u001b[0m in \u001b[0;36mwait\u001b[0;34m(self, stderr)\u001b[0m\n\u001b[1;32m    655\u001b[0m                 \u001b[0merrstr\u001b[0m \u001b[0;34m=\u001b[0m \u001b[0mread_all_from_possibly_closed_stream\u001b[0m\u001b[0;34m(\u001b[0m\u001b[0mp_stderr\u001b[0m\u001b[0;34m)\u001b[0m\u001b[0;34m\u001b[0m\u001b[0;34m\u001b[0m\u001b[0m\n\u001b[1;32m    656\u001b[0m                 \u001b[0m_logger\u001b[0m\u001b[0;34m.\u001b[0m\u001b[0mdebug\u001b[0m\u001b[0;34m(\u001b[0m\u001b[0;34m\"AutoInterrupt wait stderr: %r\"\u001b[0m \u001b[0;34m%\u001b[0m \u001b[0;34m(\u001b[0m\u001b[0merrstr\u001b[0m\u001b[0;34m,\u001b[0m\u001b[0;34m)\u001b[0m\u001b[0;34m)\u001b[0m\u001b[0;34m\u001b[0m\u001b[0;34m\u001b[0m\u001b[0m\n\u001b[0;32m--> 657\u001b[0;31m                 \u001b[0;32mraise\u001b[0m \u001b[0mGitCommandError\u001b[0m\u001b[0;34m(\u001b[0m\u001b[0mremove_password_if_present\u001b[0m\u001b[0;34m(\u001b[0m\u001b[0mself\u001b[0m\u001b[0;34m.\u001b[0m\u001b[0margs\u001b[0m\u001b[0;34m)\u001b[0m\u001b[0;34m,\u001b[0m \u001b[0mstatus\u001b[0m\u001b[0;34m,\u001b[0m \u001b[0merrstr\u001b[0m\u001b[0;34m)\u001b[0m\u001b[0;34m\u001b[0m\u001b[0;34m\u001b[0m\u001b[0m\n\u001b[0m\u001b[1;32m    658\u001b[0m             \u001b[0;32mreturn\u001b[0m \u001b[0mstatus\u001b[0m\u001b[0;34m\u001b[0m\u001b[0;34m\u001b[0m\u001b[0m\n\u001b[1;32m    659\u001b[0m \u001b[0;34m\u001b[0m\u001b[0m\n",
            "\u001b[0;31mGitCommandError\u001b[0m: Cmd('git') failed due to: exit code(128)\n  cmdline: git clone -v -- https://github.com/openvinotoolkit/anomalib.git /content/anomalib\n  stderr: 'fatal: destination path '/content/anomalib' already exists and is not an empty directory.\n'"
          ]
        }
      ]
    },
    {
      "cell_type": "code",
      "source": [
        "!pip install anomalib"
      ],
      "metadata": {
        "colab": {
          "base_uri": "https://localhost:8080/",
          "height": 746
        },
        "id": "ioxYm14cXtut",
        "outputId": "485db302-44ee-460e-b91f-0717aff60cb9"
      },
      "execution_count": 6,
      "outputs": [
        {
          "output_type": "stream",
          "name": "stdout",
          "text": [
            "Collecting anomalib\n",
            "  Downloading anomalib-1.0.0-py3-none-any.whl (391 kB)\n",
            "\u001b[2K     \u001b[90m━━━━━━━━━━━━━━━━━━━━━━━━━━━━━━━━━━━━━━━━\u001b[0m \u001b[32m391.8/391.8 kB\u001b[0m \u001b[31m5.7 MB/s\u001b[0m eta \u001b[36m0:00:00\u001b[0m\n",
            "\u001b[?25hCollecting jsonargparse[signatures]>=4.3 (from anomalib)\n",
            "  Downloading jsonargparse-4.27.5-py3-none-any.whl (191 kB)\n",
            "\u001b[2K     \u001b[90m━━━━━━━━━━━━━━━━━━━━━━━━━━━━━━━━━━━━━━━━\u001b[0m \u001b[32m191.3/191.3 kB\u001b[0m \u001b[31m7.6 MB/s\u001b[0m eta \u001b[36m0:00:00\u001b[0m\n",
            "\u001b[?25hCollecting omegaconf>=2.1.1 (from anomalib)\n",
            "  Downloading omegaconf-2.3.0-py3-none-any.whl (79 kB)\n",
            "\u001b[2K     \u001b[90m━━━━━━━━━━━━━━━━━━━━━━━━━━━━━━━━━━━━━━━━\u001b[0m \u001b[32m79.5/79.5 kB\u001b[0m \u001b[31m6.1 MB/s\u001b[0m eta \u001b[36m0:00:00\u001b[0m\n",
            "\u001b[?25hRequirement already satisfied: rich>=13.5.2 in /usr/local/lib/python3.10/dist-packages (from anomalib) (13.7.1)\n",
            "Requirement already satisfied: setuptools>=41.0.0 in /usr/local/lib/python3.10/dist-packages (from anomalib) (67.7.2)\n",
            "Collecting rich-argparse (from anomalib)\n",
            "  Downloading rich_argparse-1.4.0-py3-none-any.whl (19 kB)\n",
            "Requirement already satisfied: PyYAML>=3.13 in /usr/local/lib/python3.10/dist-packages (from jsonargparse[signatures]>=4.3->anomalib) (6.0.1)\n",
            "Collecting docstring-parser>=0.15 (from jsonargparse[signatures]>=4.3->anomalib)\n",
            "  Downloading docstring_parser-0.15-py3-none-any.whl (36 kB)\n",
            "Collecting typeshed-client>=2.1.0 (from jsonargparse[signatures]>=4.3->anomalib)\n",
            "  Downloading typeshed_client-2.5.1-py3-none-any.whl (606 kB)\n",
            "\u001b[2K     \u001b[90m━━━━━━━━━━━━━━━━━━━━━━━━━━━━━━━━━━━━━━━━\u001b[0m \u001b[32m606.1/606.1 kB\u001b[0m \u001b[31m9.9 MB/s\u001b[0m eta \u001b[36m0:00:00\u001b[0m\n",
            "\u001b[?25hCollecting antlr4-python3-runtime==4.9.* (from omegaconf>=2.1.1->anomalib)\n",
            "  Downloading antlr4-python3-runtime-4.9.3.tar.gz (117 kB)\n",
            "\u001b[2K     \u001b[90m━━━━━━━━━━━━━━━━━━━━━━━━━━━━━━━━━━━━━━━━\u001b[0m \u001b[32m117.0/117.0 kB\u001b[0m \u001b[31m12.7 MB/s\u001b[0m eta \u001b[36m0:00:00\u001b[0m\n",
            "\u001b[?25h  Preparing metadata (setup.py) ... \u001b[?25l\u001b[?25hdone\n",
            "Requirement already satisfied: markdown-it-py>=2.2.0 in /usr/local/lib/python3.10/dist-packages (from rich>=13.5.2->anomalib) (3.0.0)\n",
            "Requirement already satisfied: pygments<3.0.0,>=2.13.0 in /usr/local/lib/python3.10/dist-packages (from rich>=13.5.2->anomalib) (2.16.1)\n",
            "Requirement already satisfied: mdurl~=0.1 in /usr/local/lib/python3.10/dist-packages (from markdown-it-py>=2.2.0->rich>=13.5.2->anomalib) (0.1.2)\n",
            "Requirement already satisfied: importlib-resources>=1.4.0 in /usr/local/lib/python3.10/dist-packages (from typeshed-client>=2.1.0->jsonargparse[signatures]>=4.3->anomalib) (6.1.2)\n",
            "Requirement already satisfied: typing-extensions>=4.5.0 in /usr/local/lib/python3.10/dist-packages (from typeshed-client>=2.1.0->jsonargparse[signatures]>=4.3->anomalib) (4.10.0)\n",
            "Building wheels for collected packages: antlr4-python3-runtime\n",
            "  Building wheel for antlr4-python3-runtime (setup.py) ... \u001b[?25l\u001b[?25hdone\n",
            "  Created wheel for antlr4-python3-runtime: filename=antlr4_python3_runtime-4.9.3-py3-none-any.whl size=144554 sha256=eb673d0792b0aed3bfbe3d6def6105759d5676ad030c3029e51a0e749881b8f7\n",
            "  Stored in directory: /root/.cache/pip/wheels/12/93/dd/1f6a127edc45659556564c5730f6d4e300888f4bca2d4c5a88\n",
            "Successfully built antlr4-python3-runtime\n",
            "Installing collected packages: antlr4-python3-runtime, typeshed-client, omegaconf, jsonargparse, docstring-parser, rich-argparse, anomalib\n",
            "Successfully installed anomalib-1.0.0 antlr4-python3-runtime-4.9.3 docstring-parser-0.15 jsonargparse-4.27.5 omegaconf-2.3.0 rich-argparse-1.4.0 typeshed-client-2.5.1\n"
          ]
        },
        {
          "output_type": "display_data",
          "data": {
            "application/vnd.colab-display-data+json": {
              "pip_warning": {
                "packages": [
                  "anomalib",
                  "pydevd_plugins"
                ]
              },
              "id": "958fc51c574f41319a3ba29d4b7717f9"
            }
          },
          "metadata": {}
        }
      ]
    },
    {
      "cell_type": "code",
      "source": [
        "import os\n",
        "import git\n",
        "from pathlib import Path\n",
        "from git.repo import Repo\n",
        "\n",
        "current_directory = Path.cwd()\n",
        "if current_directory.name == \"000_getting_started\":\n",
        "    # On the assumption that the notebook is located in ~/anomalib/notebooks/000_getting_started/\n",
        "    root_directory = current_directory.parent.parent\n",
        "elif current_directory.name == \"anomalib\":\n",
        "    # This means that the notebook is run from the main anomalib directory\n",
        "    root_directory = current_directory\n",
        "else:\n",
        "    # Otherwise, we will need to clone the anomalib repo to the 'current_directory'\n",
        "    repo = Repo.clone_from(\n",
        "        url = \"https://github.com/openvinotoolkit/anomalib.git\",\n",
        "        to_path = current_directory / \"anomalib\"\n",
        "    )\n",
        "    root_directory = current_directory / \"anomalib\"\n",
        "\n",
        "os.chdir(root_directory)\n",
        "\n",
        "# imports\n",
        "import numpy as np\n",
        "from matplotlib import pyplot as plt\n",
        "from PIL import Image\n",
        "from torchvision.transforms import ToPILImage\n",
        "\n",
        "from anomalib import TaskType\n",
        "from anomalib.data import MVTec\n",
        "from anomalib.data.utils import read_image\n",
        "from anomalib.deploy import ExportType, OpenVINOInferencer\n",
        "from anomalib.engine import Engine\n",
        "from anomalib.models import Padim"
      ],
      "metadata": {
        "colab": {
          "base_uri": "https://localhost:8080/",
          "height": 408
        },
        "id": "wfdw0psrXxVz",
        "outputId": "6b35499c-fa48-45ad-9fa8-0ecd0be4b306"
      },
      "execution_count": 3,
      "outputs": [
        {
          "output_type": "error",
          "ename": "GitCommandError",
          "evalue": "Cmd('git') failed due to: exit code(128)\n  cmdline: git clone -v -- https://github.com/openvinotoolkit/anomalib.git /content/anomalib\n  stderr: 'fatal: destination path '/content/anomalib' already exists and is not an empty directory.\n'",
          "traceback": [
            "\u001b[0;31m---------------------------------------------------------------------------\u001b[0m",
            "\u001b[0;31mGitCommandError\u001b[0m                           Traceback (most recent call last)",
            "\u001b[0;32m<ipython-input-3-49a6fda659b9>\u001b[0m in \u001b[0;36m<cell line: 7>\u001b[0;34m()\u001b[0m\n\u001b[1;32m     13\u001b[0m \u001b[0;32melse\u001b[0m\u001b[0;34m:\u001b[0m\u001b[0;34m\u001b[0m\u001b[0;34m\u001b[0m\u001b[0m\n\u001b[1;32m     14\u001b[0m     \u001b[0;31m# Otherwise, we will need to clone the anomalib repo to the 'current_directory'\u001b[0m\u001b[0;34m\u001b[0m\u001b[0;34m\u001b[0m\u001b[0m\n\u001b[0;32m---> 15\u001b[0;31m     repo = Repo.clone_from(\n\u001b[0m\u001b[1;32m     16\u001b[0m         \u001b[0murl\u001b[0m \u001b[0;34m=\u001b[0m \u001b[0;34m\"https://github.com/openvinotoolkit/anomalib.git\"\u001b[0m\u001b[0;34m,\u001b[0m\u001b[0;34m\u001b[0m\u001b[0;34m\u001b[0m\u001b[0m\n\u001b[1;32m     17\u001b[0m         \u001b[0mto_path\u001b[0m \u001b[0;34m=\u001b[0m \u001b[0mcurrent_directory\u001b[0m \u001b[0;34m/\u001b[0m \u001b[0;34m\"anomalib\"\u001b[0m\u001b[0;34m\u001b[0m\u001b[0;34m\u001b[0m\u001b[0m\n",
            "\u001b[0;32m/usr/local/lib/python3.10/dist-packages/git/repo/base.py\u001b[0m in \u001b[0;36mclone_from\u001b[0;34m(cls, url, to_path, progress, env, multi_options, allow_unsafe_protocols, allow_unsafe_options, **kwargs)\u001b[0m\n\u001b[1;32m   1403\u001b[0m         \u001b[0;32mif\u001b[0m \u001b[0menv\u001b[0m \u001b[0;32mis\u001b[0m \u001b[0;32mnot\u001b[0m \u001b[0;32mNone\u001b[0m\u001b[0;34m:\u001b[0m\u001b[0;34m\u001b[0m\u001b[0;34m\u001b[0m\u001b[0m\n\u001b[1;32m   1404\u001b[0m             \u001b[0mgit\u001b[0m\u001b[0;34m.\u001b[0m\u001b[0mupdate_environment\u001b[0m\u001b[0;34m(\u001b[0m\u001b[0;34m**\u001b[0m\u001b[0menv\u001b[0m\u001b[0;34m)\u001b[0m\u001b[0;34m\u001b[0m\u001b[0;34m\u001b[0m\u001b[0m\n\u001b[0;32m-> 1405\u001b[0;31m         return cls._clone(\n\u001b[0m\u001b[1;32m   1406\u001b[0m             \u001b[0mgit\u001b[0m\u001b[0;34m,\u001b[0m\u001b[0;34m\u001b[0m\u001b[0;34m\u001b[0m\u001b[0m\n\u001b[1;32m   1407\u001b[0m             \u001b[0murl\u001b[0m\u001b[0;34m,\u001b[0m\u001b[0;34m\u001b[0m\u001b[0;34m\u001b[0m\u001b[0m\n",
            "\u001b[0;32m/usr/local/lib/python3.10/dist-packages/git/repo/base.py\u001b[0m in \u001b[0;36m_clone\u001b[0;34m(cls, git, url, path, odb_default_type, progress, multi_options, allow_unsafe_protocols, allow_unsafe_options, **kwargs)\u001b[0m\n\u001b[1;32m   1300\u001b[0m \u001b[0;34m\u001b[0m\u001b[0m\n\u001b[1;32m   1301\u001b[0m             \u001b[0m_logger\u001b[0m\u001b[0;34m.\u001b[0m\u001b[0mdebug\u001b[0m\u001b[0;34m(\u001b[0m\u001b[0;34m\"Cmd(%s)'s unused stdout: %s\"\u001b[0m\u001b[0;34m,\u001b[0m \u001b[0mcmdline\u001b[0m\u001b[0;34m,\u001b[0m \u001b[0mstdout\u001b[0m\u001b[0;34m)\u001b[0m\u001b[0;34m\u001b[0m\u001b[0;34m\u001b[0m\u001b[0m\n\u001b[0;32m-> 1302\u001b[0;31m             \u001b[0mfinalize_process\u001b[0m\u001b[0;34m(\u001b[0m\u001b[0mproc\u001b[0m\u001b[0;34m,\u001b[0m \u001b[0mstderr\u001b[0m\u001b[0;34m=\u001b[0m\u001b[0mstderr\u001b[0m\u001b[0;34m)\u001b[0m\u001b[0;34m\u001b[0m\u001b[0;34m\u001b[0m\u001b[0m\n\u001b[0m\u001b[1;32m   1303\u001b[0m \u001b[0;34m\u001b[0m\u001b[0m\n\u001b[1;32m   1304\u001b[0m         \u001b[0;31m# Our git command could have a different working dir than our actual\u001b[0m\u001b[0;34m\u001b[0m\u001b[0;34m\u001b[0m\u001b[0m\n",
            "\u001b[0;32m/usr/local/lib/python3.10/dist-packages/git/util.py\u001b[0m in \u001b[0;36mfinalize_process\u001b[0;34m(proc, **kwargs)\u001b[0m\n\u001b[1;32m    481\u001b[0m     \u001b[0;34m\"\"\"Wait for the process (clone, fetch, pull or push) and handle its errors accordingly\"\"\"\u001b[0m\u001b[0;34m\u001b[0m\u001b[0;34m\u001b[0m\u001b[0m\n\u001b[1;32m    482\u001b[0m     \u001b[0;31m# TODO: No close proc-streams??\u001b[0m\u001b[0;34m\u001b[0m\u001b[0;34m\u001b[0m\u001b[0m\n\u001b[0;32m--> 483\u001b[0;31m     \u001b[0mproc\u001b[0m\u001b[0;34m.\u001b[0m\u001b[0mwait\u001b[0m\u001b[0;34m(\u001b[0m\u001b[0;34m**\u001b[0m\u001b[0mkwargs\u001b[0m\u001b[0;34m)\u001b[0m\u001b[0;34m\u001b[0m\u001b[0;34m\u001b[0m\u001b[0m\n\u001b[0m\u001b[1;32m    484\u001b[0m \u001b[0;34m\u001b[0m\u001b[0m\n\u001b[1;32m    485\u001b[0m \u001b[0;34m\u001b[0m\u001b[0m\n",
            "\u001b[0;32m/usr/local/lib/python3.10/dist-packages/git/cmd.py\u001b[0m in \u001b[0;36mwait\u001b[0;34m(self, stderr)\u001b[0m\n\u001b[1;32m    655\u001b[0m                 \u001b[0merrstr\u001b[0m \u001b[0;34m=\u001b[0m \u001b[0mread_all_from_possibly_closed_stream\u001b[0m\u001b[0;34m(\u001b[0m\u001b[0mp_stderr\u001b[0m\u001b[0;34m)\u001b[0m\u001b[0;34m\u001b[0m\u001b[0;34m\u001b[0m\u001b[0m\n\u001b[1;32m    656\u001b[0m                 \u001b[0m_logger\u001b[0m\u001b[0;34m.\u001b[0m\u001b[0mdebug\u001b[0m\u001b[0;34m(\u001b[0m\u001b[0;34m\"AutoInterrupt wait stderr: %r\"\u001b[0m \u001b[0;34m%\u001b[0m \u001b[0;34m(\u001b[0m\u001b[0merrstr\u001b[0m\u001b[0;34m,\u001b[0m\u001b[0;34m)\u001b[0m\u001b[0;34m)\u001b[0m\u001b[0;34m\u001b[0m\u001b[0;34m\u001b[0m\u001b[0m\n\u001b[0;32m--> 657\u001b[0;31m                 \u001b[0;32mraise\u001b[0m \u001b[0mGitCommandError\u001b[0m\u001b[0;34m(\u001b[0m\u001b[0mremove_password_if_present\u001b[0m\u001b[0;34m(\u001b[0m\u001b[0mself\u001b[0m\u001b[0;34m.\u001b[0m\u001b[0margs\u001b[0m\u001b[0;34m)\u001b[0m\u001b[0;34m,\u001b[0m \u001b[0mstatus\u001b[0m\u001b[0;34m,\u001b[0m \u001b[0merrstr\u001b[0m\u001b[0;34m)\u001b[0m\u001b[0;34m\u001b[0m\u001b[0;34m\u001b[0m\u001b[0m\n\u001b[0m\u001b[1;32m    658\u001b[0m             \u001b[0;32mreturn\u001b[0m \u001b[0mstatus\u001b[0m\u001b[0;34m\u001b[0m\u001b[0;34m\u001b[0m\u001b[0m\n\u001b[1;32m    659\u001b[0m \u001b[0;34m\u001b[0m\u001b[0m\n",
            "\u001b[0;31mGitCommandError\u001b[0m: Cmd('git') failed due to: exit code(128)\n  cmdline: git clone -v -- https://github.com/openvinotoolkit/anomalib.git /content/anomalib\n  stderr: 'fatal: destination path '/content/anomalib' already exists and is not an empty directory.\n'"
          ]
        }
      ]
    },
    {
      "cell_type": "code",
      "source": [
        "!git clone https://github.com/openvinotoolkit/anomalib.git\n",
        "import os\n",
        "os.chdir('anomalib')\n",
        "!pip install"
      ],
      "metadata": {
        "colab": {
          "base_uri": "https://localhost:8080/"
        },
        "id": "CRivLkj_YZ-w",
        "outputId": "64f254c6-dff5-459a-a865-3454499f8e29"
      },
      "execution_count": 4,
      "outputs": [
        {
          "output_type": "stream",
          "name": "stdout",
          "text": [
            "fatal: destination path 'anomalib' already exists and is not an empty directory.\n",
            "\u001b[31mERROR: You must give at least one requirement to install (see \"pip help install\")\u001b[0m\u001b[31m\n",
            "\u001b[0m"
          ]
        }
      ]
    },
    {
      "cell_type": "markdown",
      "source": [],
      "metadata": {
        "id": "gGPaMW9jYZaQ"
      }
    },
    {
      "cell_type": "code",
      "source": [],
      "metadata": {
        "id": "1icrbiK2YFIT"
      },
      "execution_count": null,
      "outputs": []
    }
  ]
}